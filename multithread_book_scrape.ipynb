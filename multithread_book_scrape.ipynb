{
 "cells": [
  {
   "cell_type": "code",
   "execution_count": 1,
   "metadata": {
    "collapsed": false
   },
   "outputs": [
    {
     "data": {
      "text/plain": [
       "320331"
      ]
     },
     "execution_count": 1,
     "metadata": {},
     "output_type": "execute_result"
    }
   ],
   "source": [
    "from threading import Thread\n",
    "import urllib\n",
    "import urllib2\n",
    "import pandas as pd\n",
    "import bs4 as bs\n",
    "import re\n",
    "import csv\n",
    "import requests\n",
    "import math\n",
    "import random\n",
    "book_list = pd.read_csv('/Users/rahuldhakecha/coursesfall2017/goodreads/files/top_2000_user_perspective/english_books.csv')['book_id']\n",
    "dest_path = r'/Users/rahuldhakecha/coursesfall2017/goodreads/files/'\n",
    "len(book_list)\n",
    "# print book_list[0:10]"
   ]
  },
  {
   "cell_type": "code",
   "execution_count": 2,
   "metadata": {
    "collapsed": false,
    "scrolled": false
   },
   "outputs": [],
   "source": [
    "from multiprocessing import Pool\n",
    "uni = ['34228074']\n",
    "final_output = []\n",
    "def th(ur):\n",
    "    try:\n",
    "        htmltext = urllib.urlopen(\"https://www.goodreads.com/book/show/\"+str(ur)).read()\n",
    "#         print htmltext\n",
    "        soup = bs.BeautifulSoup(htmltext,'lxml',from_encoding=\"utf8\")\n",
    "        strrr=soup.title.string.replace('\\n','')\n",
    "        title, author = strrr.split('by')\n",
    "#         print(title)\n",
    "#         print(author)\n",
    "#         print(soup.find_all('title'))\n",
    "#         title = str(soup.find_all('h1')[0].get_text())\n",
    "#         print(title)\n",
    "#         author = str(soup.find_all('span')[14].get_text())\n",
    "#         print(author)\n",
    "        if(str(soup.find_all('span')[15].get_text()) != '(Goodreads Author)'):\n",
    "            author = str(soup.find_all('span')[14].get_text())+','+str(soup.find_all('span')[15].get_text())\n",
    "        for url in soup.find_all('span',{'class':'votes value-title'}):\n",
    "            rating = str(url.text).replace('\\n','').replace(' ','')\n",
    "        for url in soup.find_all('span',{'class':'count value-title'}):\n",
    "            review = str(url.text).replace('\\n','').replace(' ','')\n",
    "        cnt=0\n",
    "        genre = []\n",
    "#         print(rating)\n",
    "#         print(review)\n",
    "        for url in soup.find_all('a',{'class':'actionLinkLite bookPageGenreLink'}):\n",
    "            genre.append(str(url.text))\n",
    "            cnt += 1\n",
    "            if cnt==6:\n",
    "                break\n",
    "#         print(genre)\n",
    "        return [ur, title.encode('utf8'), author.encode('utf8'), rating, review, str(genre).encode('utf8')]  \n",
    "    except:\n",
    "        return [ur]\n",
    "#     final_output.append([str(ur),str(rating_final),str(review_final),str(avg_rating_final)])\n",
    "\n",
    "p=Pool()\n",
    "final_output=p.map(th, uni)\n",
    "with open('/Users/rahuldhakecha/coursesfall2017/goodreads/files/top_2000_user_perspective/temp.csv', 'wb') as myfile:\n",
    "    wr = csv.writer(myfile, quoting=csv.QUOTE_ALL)\n",
    "    wr.writerow(['book_id','book_title','author','rating','review','genre'])\n",
    "    for ele in final_output:\n",
    "        wr.writerow(ele)"
   ]
  },
  {
   "cell_type": "code",
   "execution_count": null,
   "metadata": {
    "collapsed": true
   },
   "outputs": [],
   "source": []
  }
 ],
 "metadata": {
  "anaconda-cloud": {},
  "kernelspec": {
   "display_name": "Python [default]",
   "language": "python",
   "name": "python2"
  },
  "language_info": {
   "codemirror_mode": {
    "name": "ipython",
    "version": 2
   },
   "file_extension": ".py",
   "mimetype": "text/x-python",
   "name": "python",
   "nbconvert_exporter": "python",
   "pygments_lexer": "ipython2",
   "version": "2.7.12"
  }
 },
 "nbformat": 4,
 "nbformat_minor": 1
}
